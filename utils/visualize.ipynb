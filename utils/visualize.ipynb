{
 "cells": [
  {
   "cell_type": "markdown",
   "metadata": {},
   "source": [
    "This notebook is used to draw accuracy and loss plot from log."
   ]
  },
  {
   "cell_type": "code",
   "execution_count": 1,
   "metadata": {},
   "outputs": [],
   "source": [
    "'''\n",
    "Some code snippets are borrowed from LEAF.\n",
    "\n",
    "LEAF: A Benchmark for Federated Settings\n",
    "Sebastian Caldas, Sai Meher Karthik Duddu, Peter Wu, Tian Li,\n",
    "Jakub Konečný, H. Brendan McMahan, Virginia Smith, and Ameet Talwalkar.\n",
    "Workshop on Federated Learning for Data Privacy and Confidentiality (2019).\n",
    "\n",
    "https://leaf.cmu.edu/\n",
    "'''\n",
    "\n",
    "import matplotlib.pyplot as plt\n",
    "import numpy as np\n",
    "import pandas as pd\n",
    "\n",
    "import graph"
   ]
  },
  {
   "cell_type": "code",
   "execution_count": 2,
   "metadata": {},
   "outputs": [],
   "source": [
    "SHOW_WEIGHTED = False # show weighted accuracy instead of unweighted accuracy\n",
    "experiment_name = 'test_experiment'\n",
    "\n",
    "train_log_path = f'../log/{experiment_name}/train.csv'\n",
    "train_log_data = graph.load_data_from_file(train_log_path)\n",
    "test_log_path = f'../log/{experiment_name}/test.csv'\n",
    "test_log_data = graph.load_data_from_file(test_log_path)"
   ]
  },
  {
   "cell_type": "code",
   "execution_count": null,
   "metadata": {
    "scrolled": true
   },
   "outputs": [],
   "source": [
    "# Plots accuracy vs. round number.\n",
    "graph.plot_accuracy_by_round_number(data=train_log_data, weighted=SHOW_WEIGHTED)\n",
    "graph.plot_accuracy_by_round_number(data=test_log_data, weighted=SHOW_WEIGHTED)"
   ]
  },
  {
   "cell_type": "code",
   "execution_count": null,
   "metadata": {},
   "outputs": [],
   "source": []
  }
 ],
 "metadata": {
  "kernelspec": {
   "display_name": "Python 3 (ipykernel)",
   "language": "python",
   "name": "python3"
  },
  "language_info": {
   "codemirror_mode": {
    "name": "ipython",
    "version": 3
   },
   "file_extension": ".py",
   "mimetype": "text/x-python",
   "name": "python",
   "nbconvert_exporter": "python",
   "pygments_lexer": "ipython3",
   "version": "3.7.11"
  }
 },
 "nbformat": 4,
 "nbformat_minor": 2
}
